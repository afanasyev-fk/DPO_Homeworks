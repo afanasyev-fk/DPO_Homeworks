{
  "nbformat": 4,
  "nbformat_minor": 0,
  "metadata": {
    "colab": {
      "provenance": [],
      "toc_visible": true
    },
    "kernelspec": {
      "name": "python3",
      "display_name": "Python 3"
    },
    "language_info": {
      "name": "python"
    }
  },
  "cells": [
    {
      "cell_type": "markdown",
      "source": [
        "# Практика №2\n",
        "\n",
        "1. Сгенерировать, используя модуль псевдослучайных чисел `random`, или ввести с клавиатуры список целых чисел. Вывести в консоль, затем перевернуть его и снова вывести в консоль.\n",
        "\n",
        "2. Сгенерировать, используя модуль псевдослучайных чисел `random`, или ввести с клавиатуры два списка целых чисел. Вывести их в консоль. Создать новый пустой список. Добавить в него все четные (по индексу) элементы первого списка и все нечетные (по индексу) элементы второго списка. Вывести третий список в консоль.\n",
        "\n",
        "3. Сгенерировать, используя модуль псевдослучайных чисел `random`, или ввести с клавиатуры список произвольных элементов (целые числа, числа с плавающей точкой, строки). Вывести в консоль. Убрать из него все дубликаты через приведение типов. Вывести в консоль.\n",
        "\n",
        "4. Сгенерировать, используя модуль псевдослучайных чисел `random`, или ввести с клавиатуры словарь, где ключом является строка, значением — целое число или число с плавающей точкой. Вывести в консоль. Для всех уникальных значений создать кортеж, где первым элементом будет значение, вторым — список связанных с ним ключей. Собрать эти кортежи в список, вывести его в консоль.\n",
        "\n",
        "5. Сгенерировать, используя модуль псевдослучайных чисел `random`, или ввести с клавиатуры два словаря, где ключом является строка, значением — целое число или число с плавающей точкой. Вывести в консоль. Найти пересечения множеств значений словарей. Создать новый словарь, содержащий только те пары ключ-значение, значения из которых входит в пересечение. Вывести в консоль.\n",
        "\n",
        "[Ссылка на документацию функции `random`](https://docs.python.org/3/library/random.html)\n",
        "\n",
        "[Built-in Types](https://docs.python.org/3/library/stdtypes.html?highlight=tuple#tuple)"
      ],
      "metadata": {
        "id": "64JPlHixec69"
      }
    },
    {
      "cell_type": "markdown",
      "source": [
        "## Задание 1"
      ],
      "metadata": {
        "id": "HAVFiCLPo28O"
      }
    },
    {
      "cell_type": "code",
      "source": [
        "import random\n",
        "\n",
        "def generate_list(k):\n",
        "  return [random.randrange(0, 10) for _ in range(k)]\n",
        "u = generate_list(8)\n",
        "print(u)\n",
        "\n",
        "print(list(reversed(u)))"
      ],
      "metadata": {
        "id": "YyusyI57F_6_",
        "colab": {
          "base_uri": "https://localhost:8080/"
        },
        "outputId": "a2b4e4c7-3031-4b39-f9b3-3aca1b269ae3"
      },
      "execution_count": null,
      "outputs": [
        {
          "output_type": "stream",
          "name": "stdout",
          "text": [
            "[2, 9, 7, 4, 4, 1, 0, 1]\n",
            "[1, 0, 1, 4, 4, 7, 9, 2]\n"
          ]
        }
      ]
    },
    {
      "cell_type": "markdown",
      "source": [
        "## Задание 2"
      ],
      "metadata": {
        "id": "a1gbYjASfIqJ"
      }
    },
    {
      "cell_type": "code",
      "source": [
        "import random\n",
        "\n",
        "list1 = [random.randint(1, 10) for _ in range(10)]\n",
        "list2 = [random.randint(1, 10) for _ in range(10)]\n",
        "\n",
        "print(list1)\n",
        "print(list2)\n",
        "\n",
        "new_list = []\n",
        "\n",
        "for i in range(0, len(list1), 2):\n",
        "    new_list.append(list1[i])\n",
        "for i in range(1, len(list2), 2):\n",
        "    new_list.append(list2[i])\n",
        "\n",
        "print(new_list)\n"
      ],
      "metadata": {
        "id": "Q0qL-Z2CGAXx",
        "colab": {
          "base_uri": "https://localhost:8080/"
        },
        "outputId": "e000d61f-7f2a-4f9a-8779-6b43f9b8de8d"
      },
      "execution_count": null,
      "outputs": [
        {
          "output_type": "stream",
          "name": "stdout",
          "text": [
            "[4, 9, 2, 2, 7, 3, 6, 4, 2, 10]\n",
            "[2, 5, 4, 7, 7, 2, 2, 2, 6, 10]\n",
            "[4, 2, 7, 6, 2, 5, 7, 2, 2, 10]\n"
          ]
        }
      ]
    },
    {
      "cell_type": "markdown",
      "source": [
        "## Задание 3"
      ],
      "metadata": {
        "id": "ZITkT8YUfM8t"
      }
    },
    {
      "cell_type": "code",
      "source": [
        "import random\n",
        "\n",
        "elements1 = [random.choice([random.randint(1, 20), random.uniform(1, 20), random.choice(['a', 'b', 'c', 'd'])]) for _ in range(15)]\n",
        "print(\"Оригинальный список:\", elements1)\n",
        "\n",
        "elements2 = list(set(elements1))\n",
        "print(\"Список без дубликатов:\", elements2)"
      ],
      "metadata": {
        "colab": {
          "base_uri": "https://localhost:8080/"
        },
        "id": "WmTxBp5GSE3E",
        "outputId": "a7f15767-62e0-4e7e-c1d7-739ca99c2012"
      },
      "execution_count": null,
      "outputs": [
        {
          "output_type": "stream",
          "name": "stdout",
          "text": [
            "Оригинальный список: [18, 'a', 'a', 'c', 15.366806232563237, 20, 17, 'd', 6, 9.504629519653369, 17, 'a', 18.76543210746506, 16.780990359417302, 15]\n",
            "Список без дубликатов: ['c', 6, 9.504629519653369, 'd', 15.366806232563237, 16.780990359417302, 17, 18, 18.76543210746506, 20, 15, 'a']\n"
          ]
        }
      ]
    },
    {
      "cell_type": "markdown",
      "source": [
        "## Задание 4"
      ],
      "metadata": {
        "id": "sqvNf2a6fTdY"
      }
    },
    {
      "cell_type": "code",
      "source": [
        "import random\n",
        "\n",
        "dictionary = {f'key{i}': random.choice([random.randint(1, 10), random.uniform(1, 10)]) for i in range(10)}\n",
        "\n",
        "print(\"Оригинальный словарь:\", dictionary)\n",
        "\n",
        "value_to_keys = {}\n",
        "for key, value in dictionary.items():\n",
        "    if value not in value_to_keys:\n",
        "        value_to_keys[value] = []\n",
        "    value_to_keys[value].append(key)\n",
        "\n",
        "result = [(value, keys) for value, keys in value_to_keys.items()]\n",
        "\n",
        "print(\"Список кортежей (значение, [ключи]):\", result)\n"
      ],
      "metadata": {
        "id": "4qaYZ2dMGBEr",
        "colab": {
          "base_uri": "https://localhost:8080/"
        },
        "outputId": "ed5b8e14-ec8a-4641-8ecd-5c4cbe6db76d"
      },
      "execution_count": null,
      "outputs": [
        {
          "output_type": "stream",
          "name": "stdout",
          "text": [
            "Оригинальный словарь: {'key0': 9, 'key1': 4.624534548288051, 'key2': 2.9628756655024064, 'key3': 5.530351074399563, 'key4': 7, 'key5': 10, 'key6': 9, 'key7': 7.769943736307532, 'key8': 4, 'key9': 1.8368604020816428}\n",
            "Список кортежей (значение, [ключи]): [(9, ['key0', 'key6']), (4.624534548288051, ['key1']), (2.9628756655024064, ['key2']), (5.530351074399563, ['key3']), (7, ['key4']), (10, ['key5']), (7.769943736307532, ['key7']), (4, ['key8']), (1.8368604020816428, ['key9'])]\n"
          ]
        }
      ]
    },
    {
      "cell_type": "markdown",
      "source": [
        "## Задание 5"
      ],
      "metadata": {
        "id": "3V5mJOBQfYHe"
      }
    },
    {
      "cell_type": "code",
      "source": [
        "import random\n",
        "\n",
        "dict1 = {f'key{i}': random.choice([random.randint(1, 10), random.uniform(1, 10)]) for i in range(5)}\n",
        "dict2 = {f'key{i+5}': random.choice([random.randint(1, 10), random.uniform(1, 10)]) for i in range(5)}\n",
        "\n",
        "print(\"Первый словарь:\", dict1)\n",
        "print(\"Второй словарь:\", dict2)\n",
        "\n",
        "intersection_values = set(dict1.values()).intersection(set(dict2.values()))\n",
        "\n",
        "new_dict = {k: v for k, v in {**dict1, **dict2}.items() if v in intersection_values}\n",
        "\n",
        "print(\"Словарь с парами ключ-значение, значения которых входят в пересечение:\", new_dict)\n"
      ],
      "metadata": {
        "id": "7RJzU4DiGBXQ",
        "colab": {
          "base_uri": "https://localhost:8080/"
        },
        "outputId": "c470b28f-8269-4978-9466-2649f2c40c06"
      },
      "execution_count": null,
      "outputs": [
        {
          "output_type": "stream",
          "name": "stdout",
          "text": [
            "Первый словарь: {'key0': 9, 'key1': 4, 'key2': 4.601489981404643, 'key3': 4, 'key4': 10}\n",
            "Второй словарь: {'key5': 4, 'key6': 5, 'key7': 5.715389584136839, 'key8': 1, 'key9': 8.150204281209472}\n",
            "Словарь с парами ключ-значение, значения которых входят в пересечение: {'key1': 4, 'key3': 4, 'key5': 4}\n"
          ]
        }
      ]
    }
  ]
}